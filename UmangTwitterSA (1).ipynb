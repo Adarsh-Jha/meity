{
  "nbformat": 4,
  "nbformat_minor": 0,
  "metadata": {
    "colab": {
      "name": "UmangTwitterSA.ipynb",
      "provenance": []
    },
    "kernelspec": {
      "name": "python3",
      "display_name": "Python 3"
    },
    "language_info": {
      "name": "python"
    }
  },
  "cells": [
    {
      "cell_type": "markdown",
      "metadata": {
        "id": "rYhRqhx3K2wy"
      },
      "source": [
        "**Installing Dependencies**"
      ]
    },
    {
      "cell_type": "code",
      "metadata": {
        "colab": {
          "base_uri": "https://localhost:8080/"
        },
        "id": "kGF_0Ku9KSJK",
        "outputId": "0a080aad-e2dd-4e34-9030-45a9fbff1e3c"
      },
      "source": [
        "!pip install tweepy"
      ],
      "execution_count": null,
      "outputs": [
        {
          "output_type": "stream",
          "name": "stdout",
          "text": [
            "Requirement already satisfied: tweepy in /usr/local/lib/python3.7/dist-packages (3.10.0)\n",
            "Requirement already satisfied: requests[socks]>=2.11.1 in /usr/local/lib/python3.7/dist-packages (from tweepy) (2.23.0)\n",
            "Requirement already satisfied: requests-oauthlib>=0.7.0 in /usr/local/lib/python3.7/dist-packages (from tweepy) (1.3.0)\n",
            "Requirement already satisfied: six>=1.10.0 in /usr/local/lib/python3.7/dist-packages (from tweepy) (1.15.0)\n",
            "Requirement already satisfied: oauthlib>=3.0.0 in /usr/local/lib/python3.7/dist-packages (from requests-oauthlib>=0.7.0->tweepy) (3.1.1)\n",
            "Requirement already satisfied: urllib3!=1.25.0,!=1.25.1,<1.26,>=1.21.1 in /usr/local/lib/python3.7/dist-packages (from requests[socks]>=2.11.1->tweepy) (1.24.3)\n",
            "Requirement already satisfied: certifi>=2017.4.17 in /usr/local/lib/python3.7/dist-packages (from requests[socks]>=2.11.1->tweepy) (2021.5.30)\n",
            "Requirement already satisfied: idna<3,>=2.5 in /usr/local/lib/python3.7/dist-packages (from requests[socks]>=2.11.1->tweepy) (2.10)\n",
            "Requirement already satisfied: chardet<4,>=3.0.2 in /usr/local/lib/python3.7/dist-packages (from requests[socks]>=2.11.1->tweepy) (3.0.4)\n",
            "Requirement already satisfied: PySocks!=1.5.7,>=1.5.6 in /usr/local/lib/python3.7/dist-packages (from requests[socks]>=2.11.1->tweepy) (1.7.1)\n"
          ]
        }
      ]
    },
    {
      "cell_type": "code",
      "metadata": {
        "colab": {
          "base_uri": "https://localhost:8080/"
        },
        "id": "mdonLq88PYdY",
        "outputId": "68a3bbe4-a414-4d35-e417-c97557ce6e79"
      },
      "source": [
        "!pip install textblob"
      ],
      "execution_count": null,
      "outputs": [
        {
          "output_type": "stream",
          "name": "stdout",
          "text": [
            "Requirement already satisfied: textblob in /usr/local/lib/python3.7/dist-packages (0.15.3)\n",
            "Requirement already satisfied: nltk>=3.1 in /usr/local/lib/python3.7/dist-packages (from textblob) (3.2.5)\n",
            "Requirement already satisfied: six in /usr/local/lib/python3.7/dist-packages (from nltk>=3.1->textblob) (1.15.0)\n"
          ]
        }
      ]
    },
    {
      "cell_type": "markdown",
      "metadata": {
        "id": "FcRaYY0MPovl"
      },
      "source": [
        "**Importing Libraries**"
      ]
    },
    {
      "cell_type": "code",
      "metadata": {
        "id": "jiAnKOgpKchq"
      },
      "source": [
        "import re\n",
        "import tweepy\n",
        "import pandas as pd\n",
        "from tweepy import OAuthHandler\n",
        "from textblob import TextBlob\n"
      ],
      "execution_count": null,
      "outputs": []
    },
    {
      "cell_type": "markdown",
      "metadata": {
        "id": "a91Luz42Ptn6"
      },
      "source": [
        "**Basic Analysis**"
      ]
    },
    {
      "cell_type": "code",
      "metadata": {
        "id": "ryRvO-77Kc-y"
      },
      "source": [
        "class TwitterClient(object):\n",
        "    def __init__(self):\n",
        "        # keys and tokens from the Twitter Dev Console \n",
        "        # bearer token: \n",
        "        #AAAAAAAAAAAAAAAAAAAAACB%2BTQEAAAAAjs7TGTapyQgMvjy7NtGPSq0AU3s%3DH5sCcmkM1HHqRENtwD8mpJhfT6c53jfsSj6Lmu292fEFGmcNyT\n",
        "        consumer_key = 'iMeyQV9aWLo55j3IMpKhNQmO4'\n",
        "        consumer_secret = 'y9cGxmiwNlAVZEtKh2DuTSGAWqK2Qc7JktC1d5bwsq2AJjssbk'\n",
        "        access_token = '1076128111345823745-nDhq4mnCCNJfHhhpQhapyuNaJbpiKP'\n",
        "        access_token_secret = 'EPOHM8TFUhmpNgUcVQ4T9I9ZIweUFzLHUsXNkxNtK2JRH'\n",
        "  \n",
        "        # attempt authentication\n",
        "        try:\n",
        "            # create OAuthHandler object\n",
        "            self.auth = OAuthHandler(consumer_key, consumer_secret)\n",
        "            # set access token and secret\n",
        "            self.auth.set_access_token(access_token, access_token_secret)\n",
        "            # create tweepy API object to fetch tweets\n",
        "            self.api = tweepy.API(self.auth)\n",
        "        except:\n",
        "            print(\"Error: Authentication Failed\")\n",
        "  \n",
        "    def clean_tweet(self, tweet):\n",
        "        return ' '.join(re.sub(\"(@[A-Za-z0-9]+)|([^0-9A-Za-z \\t])|(\\w+:\\/\\/\\S+)\", \" \", tweet).split())\n",
        "  \n",
        "    def get_tweet_sentiment(self, tweet):\n",
        "        # create TextBlob object of passed tweet text\n",
        "        analysis = TextBlob(self.clean_tweet(tweet))\n",
        "        # set sentiment\n",
        "        if analysis.sentiment.polarity > 0:\n",
        "            return 'positive'\n",
        "        elif analysis.sentiment.polarity == 0:\n",
        "            return 'neutral'\n",
        "        else:\n",
        "            return 'negative'\n",
        "  \n",
        "    def get_tweets(self, query, count = 10):\n",
        "        # empty list to store parsed tweets\n",
        "        tweets = []\n",
        "  \n",
        "        try:\n",
        "            # call twitter api to fetch tweets\n",
        "            fetched_tweets = self.api.search(q = query, count = count)\n",
        "  \n",
        "            # parsing tweets one by one\n",
        "            for tweet in fetched_tweets:\n",
        "                # empty dictionary to store required params of a tweet\n",
        "                parsed_tweet = {}\n",
        "  \n",
        "                # saving text of tweet\n",
        "                parsed_tweet['text'] = tweet.text\n",
        "                # saving sentiment of tweet\n",
        "                parsed_tweet['sentiment'] = self.get_tweet_sentiment(tweet.text)\n",
        "  \n",
        "                # appending parsed tweet to tweets list\n",
        "                if tweet.retweet_count > 0:\n",
        "                # if tweet has retweets, ensure that it is appended only once\n",
        "                    if parsed_tweet not in tweets:\n",
        "                        tweets.append(parsed_tweet)\n",
        "                else:\n",
        "                    tweets.append(parsed_tweet)\n",
        "  \n",
        "            # return parsed tweets\n",
        "            return tweets\n",
        "  \n",
        "        except tweepy.TweepError as e:\n",
        "            # print error (if any)\n",
        "            print(\"Error : \" + str(e))"
      ],
      "execution_count": null,
      "outputs": []
    },
    {
      "cell_type": "code",
      "metadata": {
        "colab": {
          "base_uri": "https://localhost:8080/"
        },
        "id": "aJFmMMw_bozi",
        "outputId": "12cde985-8ce4-4bc1-dbe1-25f31bed1c29"
      },
      "source": [
        "def main():\n",
        "    # creating object of TwitterClient Class\n",
        "    api = TwitterClient()\n",
        "    # calling function to get tweets\n",
        "    tweets = api.get_tweets(query = 'PM Kisan', count = 2000)\n",
        "  \n",
        "    # picking positive tweets from tweets\n",
        "    ptweets = [tweet for tweet in tweets if tweet['sentiment'] == 'positive']\n",
        "    # percentage of positive tweets\n",
        "    print(\"Positive tweets percentage: {} %\".format(100*len(ptweets)/len(tweets)))\n",
        "    # picking negative tweets from tweets\n",
        "    ntweets = [tweet for tweet in tweets if tweet['sentiment'] == 'negative']\n",
        "    # percentage of negative tweets\n",
        "    print(\"Negative tweets percentage: {} %\".format(100*len(ntweets)/len(tweets)))\n",
        "    # percentage of neutral tweets\n",
        "    print(\"Neutral tweets percentage: {} % \\ \".format(100*(len(tweets) -(len( ntweets )+len( ptweets)))/len(tweets)))\n",
        "    data = {'ptweets': ptweets, 'ntweets': ntweets}\n",
        "    df = pd.DataFrame(ptweets)\n",
        "    ef = pd.DataFrame(tweets)\n",
        "    cf = pd.DataFrame(ntweets)\n",
        "    df.to_csv('ptweets.csv')\n",
        "    ef.to_csv('tweets.csv')\n",
        "    cf.to_csv('ntweets.csv')\n",
        "    # printing first 5 positive tweets\n",
        "    print(\"\\n\\nPositive tweets:\")\n",
        "    for tweet in ptweets[:10]:\n",
        "        print(tweet['text'])\n",
        "  \n",
        "    # printing first 5 negative tweets\n",
        "    print(\"\\n\\nNegative tweets:\")\n",
        "    for tweet in ntweets[:10]:\n",
        "        print(tweet['text'])\n",
        "  \n",
        "if __name__ == \"__main__\":\n",
        "    # calling main function\n",
        "    main()"
      ],
      "execution_count": null,
      "outputs": [
        {
          "output_type": "stream",
          "name": "stdout",
          "text": [
            "Positive tweets percentage: 20.338983050847457 %\n",
            "Negative tweets percentage: 8.474576271186441 %\n",
            "Neutral tweets percentage: 71.1864406779661 % \\ \n",
            "\n",
            "\n",
            "Positive tweets:\n",
            "Graphs clearly demonstrating #PM_KUSUM ( Pradhan Mantri Kisan Urja Suraksha Evam Utthaan Mahabhiyan ) as an unique… https://t.co/pePR2N48lV\n",
            "RT @ISNTiwari: ⚫ दरअसल सरकार को यह सारा डेटा उठाकर देशी विदेशी कम्पनियों के हाथों करना है, ये सब नयी विश्व व्यवस्था new world order की तैया…\n",
            "RT @HitenPithadiya: 21000 crores Heroin seized from private port of PM Modi's friend Gautam Adani. \n",
            "Is this the real anti-national activiti…\n",
            "RT @dhrubachoudhur5: The term ‘Nehruvian’ has come to symbolise all the great qualities that India’s first PM Nehru, was known for in his l…\n",
            "RT @DDKisanChannel: Watch Krishi Darshan, DD Kisan’s special program on the use of Advanced Technology in Agriculture sector. Today at 5:30…\n",
            "Watch Krishi Darshan, DD Kisan’s special program on the use of Advanced Technology in Agriculture sector. Today at… https://t.co/B2zpooEiQZ\n",
            "RT @PChidambaram_IN: The Muslim gentleman’s rendering of a Mahabharata iconic verse/song was awesome and inspiring \n",
            "\n",
            "PM Mr Modi must make i…\n",
            "RT @sunmor2901: You won't find a single farmer who is happy about Modi as PM. \n",
            "Modi is so busy doing gulami of his crony friends that he ha…\n",
            "⚫ दरअसल सरकार को यह सारा डेटा उठाकर देशी विदेशी कम्पनियों के हाथों करना है, ये सब नयी विश्व व्यवस्था new world orde… https://t.co/dwX5aNsbjy\n",
            "RT @Harinde11703769: First Kisan Mahapanchayat #28sept in Rajim district in Chhattisgarh. More and more share. RT. Like. Follow. Farmer uni…\n",
            "\n",
            "\n",
            "Negative tweets:\n",
            "RT @mnreindia: PM Kusum \n",
            "Pradhan Mantri Kisan Urja \n",
            "Suraksha Evam Utthaan \n",
            "Mahabhiyan\n",
            "A new green revolution...\n",
            "\n",
            "Click here to download the…\n",
            "RT @harryRandhawa09: I am sharing a small scene of Muzaffarnagar Kisan Mahapanchayat with you.\n",
            "#FarmersProtest#KisanAndolan\n",
            "#5septemberkisa…\n",
            "RT @MyMindMyLogic: @KailashBaytu I am not able to register my name in PM Kisan Sanman Nidhi Fund. Website giving technical error.\n",
            "\n",
            "Call cen…\n",
            "@KailashBaytu I am not able to register my name in PM Kisan Sanman Nidhi Fund. Website giving technical error.\n",
            "\n",
            "Cal… https://t.co/VleixhPaJb\n",
            "PM Kusum \n",
            "Pradhan Mantri Kisan Urja \n",
            "Suraksha Evam Utthaan \n",
            "Mahabhiyan\n",
            "A new green revolution...\n",
            "\n",
            "Click here to dow… https://t.co/bs5YEVPD1a\n"
          ]
        }
      ]
    }
  ]
}